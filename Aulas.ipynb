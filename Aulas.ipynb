{
 "cells": [
  {
   "cell_type": "markdown",
   "metadata": {},
   "source": [
    "# Aula 01"
   ]
  },
  {
   "cell_type": "code",
   "execution_count": null,
   "metadata": {},
   "outputs": [],
   "source": [
    "import pandas as pd\n",
    "\n",
    "fonte = \"sample_dados/MICRODADOS_ENEM_2019_SAMPLE_43278.csv\"\n",
    "\n",
    "#Comentar a linha acima e Descomentar a linha abaixo caso não queira baixa a base de dados\n",
    "#fonte = \"https://github.com/alura-cursos/imersao-dados-2-2020/blob/master/MICRODADOS_ENEM_2019_SAMPLE_43278.csv?raw=true\"\n",
    "\n",
    "dados = pd.read_csv(fonte)\n",
    "dados.head()"
   ]
  },
  {
   "cell_type": "code",
   "execution_count": null,
   "metadata": {},
   "outputs": [],
   "source": [
    "dados.shape"
   ]
  },
  {
   "cell_type": "code",
   "execution_count": null,
   "metadata": {},
   "outputs": [],
   "source": [
    "dados[\"SG_UF_RESIDENCIA\"]"
   ]
  },
  {
   "cell_type": "code",
   "execution_count": null,
   "metadata": {},
   "outputs": [],
   "source": [
    "dados.columns.values"
   ]
  },
  {
   "cell_type": "code",
   "execution_count": null,
   "metadata": {},
   "outputs": [],
   "source": [
    "dados[[\"SG_UF_RESIDENCIA\", \"Q025\"]]"
   ]
  },
  {
   "cell_type": "code",
   "execution_count": null,
   "metadata": {},
   "outputs": [],
   "source": [
    "dados[\"SG_UF_RESIDENCIA\"].unique()"
   ]
  },
  {
   "cell_type": "code",
   "execution_count": null,
   "metadata": {},
   "outputs": [],
   "source": [
    "len(dados[\"SG_UF_RESIDENCIA\"].unique())"
   ]
  },
  {
   "cell_type": "code",
   "execution_count": null,
   "metadata": {},
   "outputs": [],
   "source": [
    "dados[\"SG_UF_RESIDENCIA\"].value_counts()"
   ]
  },
  {
   "cell_type": "code",
   "execution_count": null,
   "metadata": {},
   "outputs": [],
   "source": [
    "dados[\"NU_IDADE\"].value_counts()"
   ]
  },
  {
   "cell_type": "code",
   "execution_count": null,
   "metadata": {},
   "outputs": [],
   "source": [
    "[dados[\"NU_IDADE\"].min(), dados[\"NU_IDADE\"].max()]"
   ]
  },
  {
   "cell_type": "code",
   "execution_count": null,
   "metadata": {},
   "outputs": [],
   "source": [
    "dados[\"NU_IDADE\"].value_counts().sort_index()"
   ]
  },
  {
   "cell_type": "code",
   "execution_count": null,
   "metadata": {},
   "outputs": [],
   "source": [
    " dados[\"NU_IDADE\"].hist()"
   ]
  },
  {
   "cell_type": "code",
   "execution_count": null,
   "metadata": {},
   "outputs": [],
   "source": [
    " dados[\"NU_IDADE\"].hist(bins = 50, figsize = (10,8))"
   ]
  },
  {
   "cell_type": "code",
   "execution_count": null,
   "metadata": {},
   "outputs": [],
   "source": [
    "dados.query(\"IN_TREINEIRO == 1\")"
   ]
  },
  {
   "cell_type": "code",
   "execution_count": null,
   "metadata": {},
   "outputs": [],
   "source": [
    "dados.query(\"IN_TREINEIRO == 1\")[\"NU_IDADE\"].value_counts().sort_index()"
   ]
  },
  {
   "cell_type": "code",
   "execution_count": null,
   "metadata": {},
   "outputs": [],
   "source": [
    "dados[\"NU_NOTA_REDACAO\"].hist(bins = 20, figsize = (8, 6))"
   ]
  },
  {
   "cell_type": "code",
   "execution_count": null,
   "metadata": {},
   "outputs": [],
   "source": [
    "dados[\"NU_NOTA_LC\"].hist(bins = 20, figsize = (8, 6))"
   ]
  },
  {
   "cell_type": "code",
   "execution_count": null,
   "metadata": {},
   "outputs": [],
   "source": [
    "dados[\"NU_NOTA_REDACAO\"].mean() # média"
   ]
  },
  {
   "cell_type": "code",
   "execution_count": null,
   "metadata": {},
   "outputs": [],
   "source": [
    "dados[\"NU_NOTA_REDACAO\"].std() # Desvio padrão"
   ]
  },
  {
   "cell_type": "code",
   "execution_count": null,
   "metadata": {},
   "outputs": [],
   "source": [
    "provas = [\"NU_NOTA_CN\", \"NU_NOTA_CH\", \"NU_NOTA_MT\", \"NU_NOTA_LC\", \"NU_NOTA_REDACAO\"]\n",
    "\n",
    "dados[provas].describe()"
   ]
  },
  {
   "cell_type": "code",
   "execution_count": null,
   "metadata": {},
   "outputs": [],
   "source": [
    "dados[provas].quantile(0.9) #10% das notas nas provas"
   ]
  },
  {
   "cell_type": "code",
   "execution_count": null,
   "metadata": {},
   "outputs": [],
   "source": [
    "dados[provas].plot.box(grid = True, figsize = (8,6))"
   ]
  },
  {
   "cell_type": "code",
   "execution_count": null,
   "metadata": {},
   "outputs": [],
   "source": [
    "dados[provas].boxplot(grid = True, figsize = (8,6))"
   ]
  },
  {
   "cell_type": "markdown",
   "metadata": {},
   "source": [
    "# Desafios:"
   ]
  },
  {
   "cell_type": "markdown",
   "metadata": {},
   "source": [
    "### 01 - Qual a proporção de pessoas por idade no total de minha amostra?"
   ]
  },
  {
   "cell_type": "code",
   "execution_count": null,
   "metadata": {},
   "outputs": [],
   "source": [
    "# Desafio pessoal onde verifico a proporção de alunos por estado\n",
    "pessoas_por_estado = dados[\"SG_UF_RESIDENCIA\"].value_counts()\n",
    "total = int(dados.shape[0])\n",
    "\n",
    "distribuicao_por_estado = (pessoas_por_estado / total)*100\n",
    "distribuicao_por_estado"
   ]
  },
  {
   "cell_type": "code",
   "execution_count": null,
   "metadata": {},
   "outputs": [],
   "source": [
    "# Solução do desafio 01 - ver.01\n",
    "pessoas_por_idade = dados[\"NU_IDADE\"].value_counts()\n",
    "total = int(dados.shape[0])\n",
    "\n",
    "distribuicao_por_idade = (pessoas_por_idade / total)*100\n",
    "distribuicao_por_idade"
   ]
  },
  {
   "cell_type": "code",
   "execution_count": null,
   "metadata": {},
   "outputs": [],
   "source": [
    "# Solução do desafio 01 - ver.01\n",
    "dados[\"NU_IDADE\"].value_counts(normalize = True) * 100"
   ]
  },
  {
   "cell_type": "markdown",
   "metadata": {},
   "source": [
    "### 02 - Descobrir de quais estados são os inscritos com 13 anos."
   ]
  },
  {
   "cell_type": "code",
   "execution_count": null,
   "metadata": {},
   "outputs": [],
   "source": [
    "# Solução do desafio 02 - ver.01\n",
    "desafio_2 = dados[[\"SG_UF_RESIDENCIA\",\"NU_IDADE\"]]\n",
    "desafio_2.query(\"NU_IDADE == 13\")"
   ]
  },
  {
   "cell_type": "code",
   "execution_count": null,
   "metadata": {},
   "outputs": [],
   "source": [
    "# Solução do desafio 02 - ver.02\n",
    "dados.query(\"NU_IDADE == 13\")[\"SG_UF_RESIDENCIA\"]"
   ]
  },
  {
   "cell_type": "markdown",
   "metadata": {},
   "source": [
    "### 03 - Adicionar título no gráfico."
   ]
  },
  {
   "cell_type": "code",
   "execution_count": null,
   "metadata": {},
   "outputs": [],
   "source": [
    "# Solução do desafio 03\n",
    "import matplotlib.pyplot as plt\n",
    "\n",
    "dados['NU_NOTA_REDACAO'].hist(bins = 20, figsize = (10, 8))\n",
    "plt.title('Distribuição das Notas de Redacao')\n",
    "plt.show()"
   ]
  },
  {
   "cell_type": "markdown",
   "metadata": {},
   "source": [
    "### 04 - Plotar os histogramas das idades dos treineiros e não treineiros."
   ]
  },
  {
   "cell_type": "code",
   "execution_count": null,
   "metadata": {},
   "outputs": [],
   "source": [
    "nao_treineiros = dados.query(\"IN_TREINEIRO == 0\")[\"NU_IDADE\"]\n",
    "treineiros = dados.query(\"IN_TREINEIRO == 1\")[\"NU_IDADE\"]\n",
    "\n",
    "nao_treineiros.hist(bins = len(nao_treineiros.unique()), figsize = (8,6))\n",
    "treineiros.hist(bins = len(treineiros.unique()), figsize = (8,6), alpha = .7)\n",
    "\n",
    "plt.title(\"Relação de treieneiros não treineiros por idade\")\n",
    "plt.legend([\"Não treineios\", \"Treineiros\"])"
   ]
  },
  {
   "cell_type": "markdown",
   "metadata": {},
   "source": [
    "### 05 - Comparar as distribuições (hist ou boxplot) das notas de inglês e espanhol."
   ]
  },
  {
   "cell_type": "code",
   "execution_count": null,
   "metadata": {},
   "outputs": [],
   "source": [
    "alunos_ing = dados.query(\"TP_LINGUA == 0\")[\"NU_NOTA_LC\"]\n",
    "alunos_esp = dados.query(\"TP_LINGUA == 1\")[\"NU_NOTA_LC\"]\n",
    "\n",
    "alunos_ing.hist(bins = 100, figsize = (8,6))\n",
    "alunos_esp.hist(bins = 100, figsize = (8,6), alpha = .7)\n",
    "\n",
    "plt.title(\"Relação de notas dos alunos optantes da prova de Inglês X Espanhol\")\n",
    "plt.legend([\"Alunos Inglês\", \"Alunos Espanhol\"])"
   ]
  },
  {
   "cell_type": "markdown",
   "metadata": {},
   "source": [
    "### 06 - explorar bibliotecas matplotlib."
   ]
  },
  {
   "cell_type": "code",
   "execution_count": null,
   "metadata": {},
   "outputs": [],
   "source": []
  },
  {
   "cell_type": "markdown",
   "metadata": {},
   "source": [
    "# Aula 02"
   ]
  },
  {
   "cell_type": "code",
   "execution_count": null,
   "metadata": {},
   "outputs": [],
   "source": [
    "alunos_menor_quatorze_anos = dados.query(\"NU_IDADE <= 14\")\n",
    "alunos_menor_quatorze_anos[\"SG_UF_RESIDENCIA\"].value_counts().plot.pie(figsize = (10,8))"
   ]
  },
  {
   "cell_type": "code",
   "execution_count": null,
   "metadata": {},
   "outputs": [],
   "source": [
    "alunos_menor_quatorze_anos = dados.query(\"NU_IDADE <= 14\")\n",
    "alunos_menor_quatorze_anos[\"SG_UF_RESIDENCIA\"].value_counts(normalize = True).plot.bar(figsize = (10,8))"
   ]
  },
  {
   "cell_type": "code",
   "execution_count": null,
   "metadata": {},
   "outputs": [],
   "source": [
    "import seaborn as sns\n",
    "\n",
    "renda_ordenada = dados[\"Q006\"].unique()\n",
    "renda_ordenada.sort()\n",
    "\n",
    "plt.figure(figsize=(12,5))\n",
    "sns.boxplot(x = \"Q006\", y = \"NU_NOTA_MT\", data = dados, order = renda_ordenada)\n",
    "plt.title(\"Boxplot das notas de matemática pela renda\")"
   ]
  },
  {
   "cell_type": "code",
   "execution_count": null,
   "metadata": {},
   "outputs": [],
   "source": [
    "dados[provas].sum() # Somando o total de notas pelas colunas"
   ]
  },
  {
   "cell_type": "code",
   "execution_count": null,
   "metadata": {},
   "outputs": [],
   "source": [
    "dados[provas].sum(axis=1) # Somando o total de notas por linha"
   ]
  },
  {
   "cell_type": "code",
   "execution_count": null,
   "metadata": {},
   "outputs": [],
   "source": [
    "dados[\"NU_NOTA_TOTAL\"] = dados[provas].sum(axis = 1)\n",
    "dados.head()"
   ]
  },
  {
   "cell_type": "code",
   "execution_count": null,
   "metadata": {},
   "outputs": [],
   "source": [
    "plt.figure(figsize=(12,5))\n",
    "sns.boxplot(x = \"Q006\", y = \"NU_NOTA_TOTAL\", data = dados, order = renda_ordenada)\n",
    "plt.title(\"Boxplot das somatório das notas pela renda\")"
   ]
  },
  {
   "cell_type": "code",
   "execution_count": null,
   "metadata": {},
   "outputs": [],
   "source": [
    "#sns.distplot(dados[\"NU_NOTA_TOTAL\"])\n",
    "sns.displot(dados, x = \"NU_NOTA_TOTAL\")"
   ]
  },
  {
   "cell_type": "code",
   "execution_count": null,
   "metadata": {},
   "outputs": [],
   "source": [
    "provas.append(\"NU_NOTA_TOTAL\")\n",
    "dados[provas].query(\"NU_NOTA_TOTAL == 0\")"
   ]
  },
  {
   "cell_type": "markdown",
   "metadata": {},
   "source": [
    "## Tomada de decisão:\n",
    "### opção 1 => desconsiderar os alunos que não estavam presentes;\n",
    "### opção 2 => considerar os alunos que estava presente em ao menos um dos dias de prova;\n",
    "### opção 3 => considerar somente os alunos que estavam presente nos dois dias de prova."
   ]
  },
  {
   "cell_type": "code",
   "execution_count": null,
   "metadata": {},
   "outputs": [],
   "source": [
    "# Escolhida = > Opção 2 \n",
    "dados_sem_notas_zero = dados.query(\"NU_NOTA_TOTAL != 0\")\n",
    "dados_sem_notas_zero.head()"
   ]
  },
  {
   "cell_type": "code",
   "execution_count": null,
   "metadata": {},
   "outputs": [],
   "source": [
    "plt.figure(figsize=(12,5))\n",
    "sns.boxplot(x = \"Q006\", y = \"NU_NOTA_TOTAL\", data = dados_sem_notas_zero, order = renda_ordenada)\n",
    "plt.title(\"Boxplot das somatório das notas pela renda\")"
   ]
  },
  {
   "cell_type": "code",
   "execution_count": null,
   "metadata": {},
   "outputs": [],
   "source": [
    "plt.figure(figsize=(16,8))\n",
    "sns.boxplot(x = \"Q006\", y = \"NU_NOTA_TOTAL\", \n",
    "            data = dados_sem_notas_zero,\n",
    "            hue = \"IN_TREINEIRO\",\n",
    "            order = renda_ordenada            )\n",
    "plt.title(\"Boxplot das somatório das notas pela renda\")"
   ]
  },
  {
   "cell_type": "markdown",
   "metadata": {},
   "source": [
    "# Desafios Aulas 02"
   ]
  },
  {
   "cell_type": "markdown",
   "metadata": {},
   "source": [
    "# MEGA DESAFIO Thainá: Pegar a amostra completa dos alunos de 13 e 14 anos"
   ]
  },
  {
   "cell_type": "markdown",
   "metadata": {},
   "source": [
    "## DESAFIO Gui: aumentar a amostra para alunos menores de idade e comparar a proporção por estado"
   ]
  },
  {
   "cell_type": "code",
   "execution_count": null,
   "metadata": {},
   "outputs": [],
   "source": [
    "alunos_menor_idade = dados.query(\"NU_IDADE < 18\")\n",
    "alunos_menor_idade[\"SG_UF_RESIDENCIA\"].value_counts(normalize = True).plot.bar(figsize = (10,8))\n",
    "plt.title(\"Alunos menores de idade por UF\")"
   ]
  },
  {
   "cell_type": "markdown",
   "metadata": {},
   "source": [
    "### Desafio 3: Criar uma função para plotar o boxplot do seaborn só informando o nome da coluna"
   ]
  },
  {
   "cell_type": "code",
   "execution_count": null,
   "metadata": {},
   "outputs": [],
   "source": [
    "def plotar_boxplot(eixo_x, eixo_y, titulo, fonte=dados):\n",
    "    eixo_ordenado = dados[eixo_x].unique()\n",
    "    eixo_ordenado.sort()\n",
    "\n",
    "    plt.figure(figsize=(12,5))\n",
    "    sns.boxplot(x = eixo_x, y = eixo_y, data = fonte, order = eixo_ordenado)\n",
    "    plt.title(titulo)"
   ]
  },
  {
   "cell_type": "code",
   "execution_count": null,
   "metadata": {},
   "outputs": [],
   "source": [
    "# Examplo de como chamar a função plotar_grafico\n",
    "plotar_boxplot(\"Q006\", \"NU_NOTA_TOTAL\", \"Nota total x renda\", dados_sem_notas_zero)"
   ]
  },
  {
   "cell_type": "markdown",
   "metadata": {},
   "source": [
    "### Desafio 4: Verificar se quem zerou a prova foi eliminado ou não estava presente"
   ]
  },
  {
   "cell_type": "code",
   "execution_count": null,
   "metadata": {},
   "outputs": [],
   "source": [
    "# 0 = Faltou a prova\n",
    "# 2 = Eliminado na prova\n",
    "\n",
    "presenca_prova = [\"TP_PRESENCA_CN\", \"TP_PRESENCA_CH\", \"TP_PRESENCA_MT\", \"TP_PRESENCA_LC\"]\n",
    "provas_objetivas = ['NU_NOTA_CN','NU_NOTA_CH','NU_NOTA_MT','NU_NOTA_LC']\n",
    "\n",
    "\n",
    "sns.histplot(dados)"
   ]
  },
  {
   "cell_type": "code",
   "execution_count": null,
   "metadata": {},
   "outputs": [],
   "source": []
  },
  {
   "cell_type": "markdown",
   "metadata": {},
   "source": [
    "### Desafio 5: Quem é eliminado tira zero ou NaN(não teve registro de notas)"
   ]
  },
  {
   "cell_type": "code",
   "execution_count": null,
   "metadata": {},
   "outputs": [],
   "source": []
  },
  {
   "cell_type": "markdown",
   "metadata": {},
   "source": [
    "### Desafio 6: Verificar a proporção dos participantes de rendas altas e mais baixas como treineiro e não treineiros"
   ]
  },
  {
   "cell_type": "code",
   "execution_count": null,
   "metadata": {},
   "outputs": [],
   "source": []
  },
  {
   "cell_type": "markdown",
   "metadata": {},
   "source": [
    "### Desafio 7: Fazer o mesmo boxplot olhando a questão 25 \"Q025\" (tem internet ou não) e fazer uma reflexão sobre o assunto e o contexto de pandemia"
   ]
  },
  {
   "cell_type": "code",
   "execution_count": null,
   "metadata": {},
   "outputs": [],
   "source": []
  },
  {
   "cell_type": "markdown",
   "metadata": {},
   "source": [
    "# Aula 03"
   ]
  },
  {
   "cell_type": "code",
   "execution_count": null,
   "metadata": {},
   "outputs": [],
   "source": [
    "plt.figure(figsize = (12,8))\n",
    "sns.histplot(dados_sem_notas_zero, x = \"NU_NOTA_TOTAL\")"
   ]
  },
  {
   "cell_type": "code",
   "execution_count": null,
   "metadata": {},
   "outputs": [],
   "source": [
    "plt.figure(figsize = (12,8))\n",
    "sns.histplot(dados_sem_notas_zero, x = \"NU_NOTA_MT\")"
   ]
  },
  {
   "cell_type": "code",
   "execution_count": null,
   "metadata": {},
   "outputs": [],
   "source": [
    "plt.figure(figsize = (12,8))\n",
    "sns.histplot(dados_sem_notas_zero, x = \"NU_NOTA_LC\")"
   ]
  },
  {
   "cell_type": "code",
   "execution_count": null,
   "metadata": {},
   "outputs": [],
   "source": [
    "# A = não possui internet em casa\n",
    "# B = possui internet em casa\n",
    "plt.figure(figsize = (12,8))\n",
    "sns.histplot(dados_sem_notas_zero, x = \"NU_NOTA_TOTAL\", hue=\"Q025\", kde = True)"
   ]
  },
  {
   "cell_type": "code",
   "execution_count": null,
   "metadata": {},
   "outputs": [],
   "source": [
    "plt.figure(figsize = (12,8))\n",
    "sns.histplot(dados_sem_notas_zero, x = \"NU_NOTA_TOTAL\", hue=\"Q025\", kde = True, stat=\"density\")"
   ]
  },
  {
   "cell_type": "code",
   "execution_count": null,
   "metadata": {},
   "outputs": [],
   "source": [
    "plt.figure(figsize = (12,8))\n",
    "sns.histplot(dados_sem_notas_zero, x = \"NU_NOTA_TOTAL\", hue=\"Q025\", kde = True, stat=\"probability\")"
   ]
  },
  {
   "cell_type": "code",
   "execution_count": null,
   "metadata": {},
   "outputs": [],
   "source": [
    "plt.figure(figsize = (12,8))\n",
    "sns.histplot(dados_sem_notas_zero, x = \"NU_NOTA_TOTAL\", hue=\"Q025\", kde = True, stat=\"density\", cumulative = True)"
   ]
  },
  {
   "cell_type": "code",
   "execution_count": null,
   "metadata": {},
   "outputs": [],
   "source": [
    "plt.figure(figsize = (8,8))\n",
    "sns.scatterplot(data = dados_sem_notas_zero, x=\"NU_NOTA_MT\", y=\"NU_NOTA_LC\")\n",
    "plt.xlim((-50, 1050))\n",
    "plt.ylim((-50, 1050))"
   ]
  },
  {
   "cell_type": "code",
   "execution_count": null,
   "metadata": {},
   "outputs": [],
   "source": [
    "sns.pairplot(dados_sem_notas_zero[provas])"
   ]
  },
  {
   "cell_type": "code",
   "execution_count": null,
   "metadata": {},
   "outputs": [],
   "source": [
    "correlacao = dados_sem_notas_zero[provas].corr()\n",
    "correlacao"
   ]
  },
  {
   "cell_type": "code",
   "execution_count": null,
   "metadata": {},
   "outputs": [],
   "source": [
    "sns.heatmap(correlacao, cmap = \"Blues\", center = 0, annot=True)"
   ]
  },
  {
   "cell_type": "code",
   "execution_count": null,
   "metadata": {},
   "outputs": [],
   "source": []
  },
  {
   "cell_type": "markdown",
   "metadata": {},
   "source": [
    "# Desafios:"
   ]
  },
  {
   "cell_type": "markdown",
   "metadata": {},
   "source": [
    "### Desafio 01: Plotar as médias, medianas e moda nas notas de LC e MT (matplotlib linha vertical)"
   ]
  },
  {
   "cell_type": "markdown",
   "metadata": {},
   "source": [
    "### Desafio 02: Melhorar a visualização da matriz de correlação e analisar mais detalhadamente"
   ]
  },
  {
   "cell_type": "markdown",
   "metadata": {},
   "source": [
    "### Desafio 03: Filtrar as notas por seu estado ou sua cidade e refazer as análises, verificando se são sememlhantes ao geral."
   ]
  },
  {
   "cell_type": "markdown",
   "metadata": {},
   "source": [
    "### Desafio 04: Refletir sobre a correlação entre a matemática e linguagens."
   ]
  },
  {
   "cell_type": "markdown",
   "metadata": {},
   "source": [
    "# Aula 04"
   ]
  },
  {
   "cell_type": "code",
   "execution_count": null,
   "metadata": {},
   "outputs": [],
   "source": [
    "provas_entrada = [\"NU_NOTA_CH\",\"NU_NOTA_LC\",\"NU_NOTA_CN\",\"NU_NOTA_REDACAO\"]\n",
    "provas_saida = \"NU_NOTA_MT\"\n",
    "\n",
    "dados_sem_notas_zero = dados_sem_notas_zero[provas].dropna()\n",
    "\n",
    "notas_entrada = dados_sem_notas_zero[provas_entrada]\n",
    "notas_saida = dados_sem_notas_zero[provas_saida]\n",
    "\n",
    "notas_entrada"
   ]
  },
  {
   "cell_type": "code",
   "execution_count": null,
   "metadata": {},
   "outputs": [],
   "source": [
    "x = notas_entrada\n",
    "y = notas_saida"
   ]
  },
  {
   "cell_type": "code",
   "execution_count": null,
   "metadata": {},
   "outputs": [],
   "source": [
    "# Separando os dados de treino e os dados de teste\n",
    "# para isso podemos utilizar o scikitlearn\n",
    "\n",
    "from sklearn.model_selection import train_test_split\n",
    "\n",
    "seed = 4321\n",
    "\n",
    "x_treino, x_teste, y_treino, y_teste = train_test_split(x, y, test_size = 0.25, random_state = seed)"
   ]
  },
  {
   "cell_type": "code",
   "execution_count": null,
   "metadata": {},
   "outputs": [],
   "source": [
    "x_treino.head()"
   ]
  },
  {
   "cell_type": "code",
   "execution_count": null,
   "metadata": {},
   "outputs": [],
   "source": [
    "# Utilizando um modelo de regressão linear \"linear_svr\"\n",
    "from sklearn.svm import LinearSVR\n",
    "\n",
    "modelo = LinearSVR(random_state = seed, max_iter=5000) #instânciar o modelo\n",
    "modelo.fit(x_treino, y_treino) #Ajustar os dados para o modelo"
   ]
  },
  {
   "cell_type": "code",
   "execution_count": null,
   "metadata": {},
   "outputs": [],
   "source": [
    "predicoes_matematica = modelo.predict(x_teste) #atribuindo a variável os valores gerados em meu modelo de predição"
   ]
  },
  {
   "cell_type": "code",
   "execution_count": null,
   "metadata": {},
   "outputs": [],
   "source": [
    "y_teste[:5]"
   ]
  },
  {
   "cell_type": "code",
   "execution_count": null,
   "metadata": {},
   "outputs": [],
   "source": [
    "# Realizar um comparativo entre os valores das predições com os valores gerados no teste\n",
    "plt.figure(figsize=(8,8))\n",
    "sns.scatterplot(x=predicoes_matematica, y=y_teste)\n",
    "plt.xlim((-50, 1050))\n",
    "plt.ylim((-50, 1050))"
   ]
  },
  {
   "cell_type": "code",
   "execution_count": null,
   "metadata": {},
   "outputs": [],
   "source": [
    "# Verificar a diferença entre os valores do teste e os valores da predição\n",
    "plt.figure(figsize=(8,8))\n",
    "sns.scatterplot(x = y_teste, y = y_teste - predicoes_matematica)\n"
   ]
  },
  {
   "cell_type": "code",
   "execution_count": null,
   "metadata": {},
   "outputs": [],
   "source": [
    "# Comparar valores gerados no teste com a média do segundo teste,\n",
    "# a fim de comparar com o modelo obtido na predição\n",
    "\n",
    "plt.figure(figsize=(8,8))\n",
    "sns.scatterplot(x = y_teste, y = x_teste.mean(axis=1))"
   ]
  },
  {
   "cell_type": "code",
   "execution_count": null,
   "metadata": {},
   "outputs": [],
   "source": [
    "# Tentando obter um métrica que expresse a relação entre os dados\n",
    "#\n",
    "\n",
    "resultados = pd.DataFrame()\n",
    "resultados[\"Real\"] = y_teste\n",
    "resultados[\"Previsao\"] = predicoes_matematica\n",
    "resultados[\"Diferenca\"] = (resultados[\"Real\"] - resultados[\"Previsao\"])  \n",
    "resultados[\"Quadrado_Diferenca\"] = (resultados[\"Real\"] - resultados[\"Previsao\"])**2"
   ]
  },
  {
   "cell_type": "code",
   "execution_count": null,
   "metadata": {},
   "outputs": [],
   "source": [
    "resultados"
   ]
  },
  {
   "cell_type": "code",
   "execution_count": null,
   "metadata": {},
   "outputs": [],
   "source": [
    "resultados[\"Quadrado_Diferenca\"].mean()"
   ]
  },
  {
   "cell_type": "code",
   "execution_count": null,
   "metadata": {},
   "outputs": [],
   "source": [
    "resultados[\"Quadrado_Diferenca\"].mean()**.5"
   ]
  },
  {
   "cell_type": "code",
   "execution_count": null,
   "metadata": {},
   "outputs": [],
   "source": [
    "from sklearn.dummy import DummyRegressor\n",
    "\n",
    "modelo_dummy = DummyRegressor()\n",
    "modelo_dummy.fit(x_treino, y_treino )\n",
    "dummy_predicoes = modelo_dummy.predict(x_teste)"
   ]
  },
  {
   "cell_type": "code",
   "execution_count": null,
   "metadata": {},
   "outputs": [],
   "source": [
    "# Biblioteca que implementa o erro quadratico médio\n",
    "from sklearn.metrics import mean_squared_error\n",
    "\n",
    "mean_squared_error(y_teste, dummy_predicoes)"
   ]
  },
  {
   "cell_type": "code",
   "execution_count": null,
   "metadata": {},
   "outputs": [],
   "source": [
    "mean_squared_error(y_teste, predicoes_matematica)"
   ]
  },
  {
   "cell_type": "markdown",
   "metadata": {},
   "source": [
    "# Desafio"
   ]
  },
  {
   "cell_type": "markdown",
   "metadata": {},
   "source": [
    "### Desafio 01: Procurar outro modelo de ML para treinar e comparar com os modelos criados em aula"
   ]
  },
  {
   "cell_type": "markdown",
   "metadata": {},
   "source": [
    "### Desafios 02: Ler a documentação do Dummy e alterar o método utilizado"
   ]
  },
  {
   "cell_type": "markdown",
   "metadata": {},
   "source": [
    "### Desafio 03: Buscar outra métrica para avaliar modelos de regressão"
   ]
  },
  {
   "cell_type": "markdown",
   "metadata": {},
   "source": [
    "# Aula 05"
   ]
  },
  {
   "cell_type": "code",
   "execution_count": null,
   "metadata": {},
   "outputs": [],
   "source": [
    "# Apresentando a diferença nos resultados (erros) obtida com os diferentes valores utilizados no parâmetro random_state\n",
    "from sklearn.svm import LinearSVR\n",
    "\n",
    "modelo = LinearSVR(random_state = 4321)\n",
    "modelo.fit(x_treino, y_treino)\n",
    "predicoes_matematica = modelo.predict(x_teste)\n",
    "mean_squared_error(y_teste, predicoes_matematica)"
   ]
  },
  {
   "cell_type": "code",
   "execution_count": null,
   "metadata": {},
   "outputs": [],
   "source": [
    "from sklearn.tree import DecisionTreeRegressor\n",
    "\n",
    "x_treino, x_teste, y_treino, y_teste = train_test_split(x, y, test_size = 0.25)\n",
    "modelo_arvore = DecisionTreeRegressor(max_depth = 3)\n",
    "modelo_arvore.fit(x_treino, y_treino)\n",
    "predicoes_matematica_arvore = modelo_arvore.predict(x_teste)"
   ]
  },
  {
   "cell_type": "code",
   "execution_count": null,
   "metadata": {},
   "outputs": [],
   "source": [
    "mean_squared_error(y_teste, predicoes_matematica_arvore)"
   ]
  },
  {
   "cell_type": "code",
   "execution_count": null,
   "metadata": {},
   "outputs": [],
   "source": [
    "# Implementando o método cross validation ao deicision tree\n",
    "# Essa técnica é interessante para reduzir eventuais viéses da separação de dados\n",
    "# feita durante o treinamento dos dados\n",
    "\n",
    "from sklearn.model_selection import cross_validate\n",
    "\n",
    "modelo_arvore = DecisionTreeRegressor(max_depth = 2)\n",
    "resultados = cross_validate(modelo_arvore, x, y, cv=10, scoring=\"neg_mean_squared_error\")\n",
    "media = (resultados[\"test_score\"]*-1).mean()\n"
   ]
  },
  {
   "cell_type": "code",
   "execution_count": null,
   "metadata": {},
   "outputs": [],
   "source": [
    "from sklearn.model_selection import cross_validate\n",
    "\n",
    "modelo_arvore = DecisionTreeRegressor(max_depth = 2)\n",
    "resultados = cross_validate(modelo_arvore, x, y, cv=10, scoring=\"neg_mean_squared_error\")\n",
    "media = (resultados[\"test_score\"]*-1).mean()\n",
    "desvio_padrao = (resultados[\"test_score\"]*-1).std()\n",
    "limite_inferior = media - 2*desvio_padrao\n",
    "limite_superior = media + 2*desvio_padrao\n",
    "\n",
    "print(f\"Intervalo de confiança {limite_inferior} - {limite_superior}\")"
   ]
  },
  {
   "cell_type": "code",
   "execution_count": null,
   "metadata": {},
   "outputs": [],
   "source": [
    "def calcula_mse(resultados):\n",
    "    media = (resultados[\"test_score\"]*-1).mean()\n",
    "    desvio_padrao = (resultados[\"test_score\"]*-1).std()\n",
    "    limite_inferior = media - 2*desvio_padrao\n",
    "    limite_superior = media + 2*desvio_padrao\n",
    "\n",
    "    print(f\"Intervalo de confiança {limite_inferior} - {limite_superior}\")"
   ]
  },
  {
   "cell_type": "code",
   "execution_count": null,
   "metadata": {},
   "outputs": [],
   "source": [
    "from sklearn.model_selection import cross_validate\n",
    "from sklearn.model_selection import KFold\n",
    "\n",
    "# Utilizaremos a função random.seed() para garantir o mesmo resultado aleatório de nossos dados\n",
    "import numpy as np\n",
    "SEED = 1232\n",
    "np.random.seed(SEED)\n",
    "\n",
    "# Kfold irá permitir aprametrizar como o cross_validate irá separar os grupos de dados \n",
    "# e com isso evitar que dados preordenados tendenciem nosso resultado\n",
    "partes = KFold(n_splits = 10, shuffle=True)\n",
    "\n",
    "modelo_arvore = DecisionTreeRegressor(max_depth = 2)\n",
    "resultados = cross_validate(modelo_arvore, x, y, cv=partes, scoring=\"neg_mean_squared_error\")\n",
    "\n",
    "calcula_mse(resultados)"
   ]
  },
  {
   "cell_type": "code",
   "execution_count": null,
   "metadata": {},
   "outputs": [],
   "source": [
    "# Criar função para rodar o DecisionTreeRegressor\n",
    "def regressor_arvore(nivel):\n",
    "    \n",
    "    SEED = 1232\n",
    "    np.random.seed(SEED)    \n",
    "    partes = KFold(n_splits = 10, shuffle=True)\n",
    "    modelo_arvore = DecisionTreeRegressor(max_depth = nivel)\n",
    "    resultados = cross_validate(modelo_arvore, x, y, cv=partes, scoring=\"neg_mean_squared_error\", return_train_score=True)\n",
    "    \n",
    "    print(f\"Treino = {(resultados['train_score']*-1).mean()} | Teste = {(resultados['test_score']*-1).mean()}\")\n",
    "    \n",
    "regressor_arvore(4)\n"
   ]
  },
  {
   "cell_type": "code",
   "execution_count": null,
   "metadata": {
    "scrolled": true
   },
   "outputs": [],
   "source": [
    "for i in range (1, 21):\n",
    "    \n",
    "    print(\"== Nível {} == \".format(i)), regressor_arvore(i)"
   ]
  },
  {
   "cell_type": "code",
   "execution_count": null,
   "metadata": {},
   "outputs": [],
   "source": [
    "# Lição aprendida\n",
    "# == OVERFITING ==\n",
    "# No teste acima verificamos que em um determinado momento a \"profundidade\"\n",
    "# de nossa árvore de decisão começa a reduzir a acertividade dos testes.\n",
    "# Isso se dá porque o algorítmo se torna eficaz em prever nossos dados e\n",
    "# e com isso reduz sua aleatoriedade.\n",
    "\n",
    "# =============================\n",
    "#precisamos lembrar para que usamos cada um dos conjuntos de dados (treino, teste, validação). \n",
    "#Acho que o treino é bem claro, usamos para treinar auhaha. Mas qual a diferença entre o teste e validação? \n",
    "\n",
    "# O teste nós usamos para ir ajustando os parâmetros dos modelos, então treinamos com dados de treino,\n",
    "# testamos a qualidade do modelo com teste, modficamos os parâmetros \n",
    "# e seguimos neste cíclo até encontrar o melhor modelo. \n",
    "# Feito todos os ajustes baseados nos dados de teste, eu vou utilizar os dados de validação \n",
    "# para verificar se a performace está relativamente próxima do que era nos dados de teste.\n",
    "# Então usamos os dados de validação quando estamos fazendo esse processo mais passo a passo do tuning de parâmetros."
   ]
  },
  {
   "cell_type": "markdown",
   "metadata": {},
   "source": [
    "# Desafio"
   ]
  },
  {
   "cell_type": "markdown",
   "metadata": {},
   "source": [
    "### Desafio 01: Pesquisar sobre intervalo de confiança"
   ]
  },
  {
   "cell_type": "markdown",
   "metadata": {},
   "source": [
    "### Desafio 02: Testar com outros parâmetros da aŕvore de decisão"
   ]
  },
  {
   "cell_type": "markdown",
   "metadata": {},
   "source": [
    "### Desafio 03: Buscar outras formas de realizar os ajustes de parâmetros com o Sklearn"
   ]
  },
  {
   "cell_type": "markdown",
   "metadata": {},
   "source": [
    "### Desafio 04: Pesquisar o que é o problema de underfit"
   ]
  },
  {
   "cell_type": "markdown",
   "metadata": {},
   "source": [
    "### Desafio 05: Plotar um gráfico com o test_score e train_score"
   ]
  }
 ],
 "metadata": {
  "kernelspec": {
   "display_name": "Python 3",
   "language": "python",
   "name": "python3"
  },
  "language_info": {
   "codemirror_mode": {
    "name": "ipython",
    "version": 3
   },
   "file_extension": ".py",
   "mimetype": "text/x-python",
   "name": "python",
   "nbconvert_exporter": "python",
   "pygments_lexer": "ipython3",
   "version": "3.8.3"
  }
 },
 "nbformat": 4,
 "nbformat_minor": 4
}
